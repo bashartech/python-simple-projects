{
  "nbformat": 4,
  "nbformat_minor": 0,
  "metadata": {
    "colab": {
      "provenance": [],
      "authorship_tag": "ABX9TyPP4mipALhyd4HiCw7SELha",
      "include_colab_link": true
    },
    "kernelspec": {
      "name": "python3",
      "display_name": "Python 3"
    },
    "language_info": {
      "name": "python"
    }
  },
  "cells": [
    {
      "cell_type": "markdown",
      "metadata": {
        "id": "view-in-github",
        "colab_type": "text"
      },
      "source": [
        "<a href=\"https://colab.research.google.com/github/bashartech/python-simple-projects/blob/main/rock_paper_scissor.ipynb\" target=\"_parent\"><img src=\"https://colab.research.google.com/assets/colab-badge.svg\" alt=\"Open In Colab\"/></a>"
      ]
    },
    {
      "cell_type": "code",
      "execution_count": 1,
      "metadata": {
        "colab": {
          "base_uri": "https://localhost:8080/"
        },
        "id": "0A6zPNVFNrFD",
        "outputId": "c742329c-c42d-451f-fd2e-896e84573d97"
      },
      "outputs": [
        {
          "output_type": "stream",
          "name": "stdout",
          "text": [
            "Enter your choice: s\n",
            "You select seizure \n",
            " Computer select rock\n",
            "Computer Win\n"
          ]
        }
      ],
      "source": [
        "import random\n",
        "'''\n",
        "1 for rock\n",
        "-1 for paper\n",
        "0 for seizure\n",
        "'''\n",
        "\n",
        "computer = random.choice([-1,0,1])\n",
        "youstr = input(\"Enter your choice: \")\n",
        "yourDict = {\"r\":1, \"p\": -1, \"s\": 0}\n",
        "reverseDict = {1: \"rock\", -1: \"paper\", 0: \"seizure\" }\n",
        "you = yourDict[youstr]\n",
        "\n",
        "print(f\"You select {reverseDict[you]} \\n Computer select {reverseDict[computer]}\")\n",
        "\n",
        "if(computer == you):\n",
        "    print(\"Match draw\")\n",
        "\n",
        "else:\n",
        "    if(computer == -1 and you == 1):\n",
        "        print(\"Computer Win\")\n",
        "    elif(computer == -1 and you == 0):\n",
        "        print(\"You Win\")\n",
        "    elif(computer == 1 and you == -1):\n",
        "        print(\"You Win\")\n",
        "    elif(computer == 1 and you == 0):\n",
        "        print( \"Computer Win\")\n",
        "    elif(computer == 0 and you == 1):\n",
        "        print(\"You Win\")\n",
        "    elif(computer == 0 and you == -1):\n",
        "        print(\"Computer Win\")\n",
        "    else:\n",
        "        print(\"Something went wrong\")"
      ]
    }
  ]
}
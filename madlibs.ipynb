{
  "nbformat": 4,
  "nbformat_minor": 0,
  "metadata": {
    "colab": {
      "provenance": [],
      "authorship_tag": "ABX9TyNNrRzdppZaH3Klt88p8TzB",
      "include_colab_link": true
    },
    "kernelspec": {
      "name": "python3",
      "display_name": "Python 3"
    },
    "language_info": {
      "name": "python"
    }
  },
  "cells": [
    {
      "cell_type": "markdown",
      "metadata": {
        "id": "view-in-github",
        "colab_type": "text"
      },
      "source": [
        "<a href=\"https://colab.research.google.com/github/bashartech/python-simple-projects/blob/main/madlibs.ipynb\" target=\"_parent\"><img src=\"https://colab.research.google.com/assets/colab-badge.svg\" alt=\"Open In Colab\"/></a>"
      ]
    },
    {
      "cell_type": "code",
      "execution_count": 1,
      "metadata": {
        "colab": {
          "base_uri": "https://localhost:8080/"
        },
        "id": "WrhsENm5pZG5",
        "outputId": "0b0131d7-a2a1-4f74-aa42-c78cdfa29d6a"
      },
      "outputs": [
        {
          "output_type": "stream",
          "name": "stdout",
          "text": [
            "Write your name: Bashar\n",
            "Add your programming language: Python\n",
            "Add SkillsFront-end Developer, Web designer\n",
            " \n",
            "In a quiet classroom filled with curiosity, Bashar sat among a group of eager students, \n",
            "discovering the fascinating world of programming. As the teacher introduced Python,\n",
            "Bashar felt a spark—drawn to the way it empowered them to build Front-end Developer, Web designer from scratch. With each line of code written and each challenge solved, Bashar grew more confident, \n",
            "turning confusion into clarity. What started as a simple lesson soon became a personal journey, where Bashar embraced their \n",
            "passion for tech, step by step, with Python as their trusted tool for shaping the future.\n",
            "\n"
          ]
        }
      ],
      "source": [
        "name = input(\"Write your name: \")\n",
        "programmmingLang = input(\"Add your programming language: \")\n",
        "skills = input(\"Add Skills \")\n",
        "\n",
        "story = (f\"\"\"\n",
        "In a quiet classroom filled with curiosity, {name} sat among a group of eager students,\n",
        "discovering the fascinating world of programming. As the teacher introduced {programmmingLang},\n",
        "{name} felt a spark—drawn to the way it empowered them to build {skills} from scratch. With each line of code written and each challenge solved, {name} grew more confident,\n",
        "turning confusion into clarity. What started as a simple lesson soon became a personal journey, where {name} embraced their\n",
        "passion for tech, step by step, with {programmmingLang} as their trusted tool for shaping the future.\n",
        "\"\"\")\n",
        "print(story)"
      ]
    }
  ]
}
{
  "nbformat": 4,
  "nbformat_minor": 0,
  "metadata": {
    "colab": {
      "provenance": [],
      "authorship_tag": "ABX9TyOhCrS0nH+tQ3/UQou+hGQl",
      "include_colab_link": true
    },
    "kernelspec": {
      "name": "python3",
      "display_name": "Python 3"
    },
    "language_info": {
      "name": "python"
    }
  },
  "cells": [
    {
      "cell_type": "markdown",
      "metadata": {
        "id": "view-in-github",
        "colab_type": "text"
      },
      "source": [
        "<a href=\"https://colab.research.google.com/github/bashartech/python-simple-projects/blob/main/countdown.ipynb\" target=\"_parent\"><img src=\"https://colab.research.google.com/assets/colab-badge.svg\" alt=\"Open In Colab\"/></a>"
      ]
    },
    {
      "cell_type": "code",
      "execution_count": null,
      "metadata": {
        "id": "o0cUqtjASclU"
      },
      "outputs": [],
      "source": [
        "import time\n",
        "\n",
        "def countDown(sec):\n",
        "  while sec > 0 :\n",
        "    min, secs = divmod(sec, 60)\n",
        "    timeFormat = '{:02d}:{:02d}'.format(min, secs)\n",
        "    print(timeFormat, end=\"\\r\")\n",
        "    time.sleep(1)\n",
        "    sec -= 1\n",
        "  print(\"00:00 \\n Time's Up\")\n",
        "\n",
        "total_secs = int(input(\"Enter time in seconds for countdown: \"))\n",
        "countDown(total_secs)"
      ]
    }
  ]
}
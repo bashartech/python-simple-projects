{
  "nbformat": 4,
  "nbformat_minor": 0,
  "metadata": {
    "colab": {
      "provenance": [],
      "authorship_tag": "ABX9TyND2r9IO4ftikIbKR3bj4GF",
      "include_colab_link": true
    },
    "kernelspec": {
      "name": "python3",
      "display_name": "Python 3"
    },
    "language_info": {
      "name": "python"
    }
  },
  "cells": [
    {
      "cell_type": "markdown",
      "metadata": {
        "id": "view-in-github",
        "colab_type": "text"
      },
      "source": [
        "<a href=\"https://colab.research.google.com/github/bashartech/python-simple-projects/blob/main/guess_num2.ipynb\" target=\"_parent\"><img src=\"https://colab.research.google.com/assets/colab-badge.svg\" alt=\"Open In Colab\"/></a>"
      ]
    },
    {
      "cell_type": "code",
      "execution_count": 3,
      "metadata": {
        "colab": {
          "base_uri": "https://localhost:8080/"
        },
        "id": "OZQcB_EuJyNr",
        "outputId": "235ef7b6-cfd5-42c9-c083-6d9e0fb4718a"
      },
      "outputs": [
        {
          "output_type": "stream",
          "name": "stdout",
          "text": [
            "Enter your guess number: 56\n",
            "Too high number\n",
            "Enter your guess number: 45\n",
            "Too high number\n",
            "Enter your guess number: 34\n",
            "Too high number\n",
            "Enter your guess number: 20\n",
            "Too high number\n",
            "Enter your guess number: 5\n",
            "Too high number\n",
            "Enter your guess number: 2\n",
            "Too high number\n",
            "Enter your guess number: 1\n",
            "Too high number\n",
            "Enter your guess number: 67\n",
            "Too Low number\n",
            "Enter your guess number: 60\n",
            "Too Low number\n",
            "Enter your guess number: 59\n",
            "Too Low number\n",
            "Enter your guess number: 57\n",
            "Too high number\n",
            "Enter your guess number: 58\n",
            "Congratulation You Got it Right\n"
          ]
        }
      ],
      "source": [
        "import random\n",
        "\n",
        "comp = random.randint(1,100)\n",
        "\n",
        "while True:\n",
        "  yourNum = int(input(\"Enter your guess number: \"))\n",
        "  if(yourNum > comp):\n",
        "   print(\"Too high number\")\n",
        "  elif(yourNum < comp):\n",
        "   print(\"Too low number\")\n",
        "  else:\n",
        "   print(\"Congratulation You Got it Right\")\n",
        "   break"
      ]
    }
  ]
}
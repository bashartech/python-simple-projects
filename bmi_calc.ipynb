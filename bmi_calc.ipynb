{
  "nbformat": 4,
  "nbformat_minor": 0,
  "metadata": {
    "colab": {
      "provenance": [],
      "authorship_tag": "ABX9TyPbaUQ4nkc2wLNMdgnZ/kdO",
      "include_colab_link": true
    },
    "kernelspec": {
      "name": "python3",
      "display_name": "Python 3"
    },
    "language_info": {
      "name": "python"
    }
  },
  "cells": [
    {
      "cell_type": "markdown",
      "metadata": {
        "id": "view-in-github",
        "colab_type": "text"
      },
      "source": [
        "<a href=\"https://colab.research.google.com/github/bashartech/python-simple-projects/blob/main/bmi_calc.ipynb\" target=\"_parent\"><img src=\"https://colab.research.google.com/assets/colab-badge.svg\" alt=\"Open In Colab\"/></a>"
      ]
    },
    {
      "cell_type": "code",
      "execution_count": null,
      "metadata": {
        "id": "Fjm0IqzuWcry"
      },
      "outputs": [],
      "source": [
        "import streamlit as st\n",
        "import time\n",
        "\n",
        "st.set_page_config(page_title=\"BMI Calculator\", layout=\"centered\")\n",
        "\n",
        "st.title(\"BMI Calculator In Python\")\n",
        "st.markdown(\"\"\"\n",
        "Entrt your body mass index (bmi) for calculation. Mention your **weight and height**\n",
        "\"\"\")\n",
        "col1, col2 = st.columns(2)\n",
        "with col1:\n",
        "    weight = st.number_input(\"Weight (kg): \", min_value=1.0, format=\"%.2f\")\n",
        "with col2:\n",
        "    height = st.number_input(\"Height (m): \", min_value=1.0, format=\"%.2f\")\n",
        "\n",
        "if height > 0 and weight > 0:\n",
        "    bmi = weight / (height ** 2) # bmi formula\n",
        "    st.subheader(\"Your BMI\")\n",
        "    st.markdown(f\"{bmi:2f}\", unsafe_allow_html=True)\n",
        "\n",
        "    if bmi < 18.5:\n",
        "        st.error(\"underweight\")\n",
        "    elif 18.5 <= bmi < 24.9:\n",
        "        st.success(\"normal weight\")\n",
        "    elif 25 <= bmi < 29.9:\n",
        "        st.warning(\"overweight\")\n",
        "    else:\n",
        "        st.error(\"Obesity\")\n",
        "else:\n",
        "    st.info(\"Please enter a valid weight and height\")\n",
        ""
      ]
    }
  ]
}
{
  "nbformat": 4,
  "nbformat_minor": 0,
  "metadata": {
    "colab": {
      "provenance": [],
      "authorship_tag": "ABX9TyOupWYlqpIjpk8s/u2uf/OA",
      "include_colab_link": true
    },
    "kernelspec": {
      "name": "python3",
      "display_name": "Python 3"
    },
    "language_info": {
      "name": "python"
    }
  },
  "cells": [
    {
      "cell_type": "markdown",
      "metadata": {
        "id": "view-in-github",
        "colab_type": "text"
      },
      "source": [
        "<a href=\"https://colab.research.google.com/github/bashartech/python-simple-projects/blob/main/guess_num.ipynb\" target=\"_parent\"><img src=\"https://colab.research.google.com/assets/colab-badge.svg\" alt=\"Open In Colab\"/></a>"
      ]
    },
    {
      "cell_type": "code",
      "source": [
        "import random\n",
        "\n",
        "def number_guessing():\n",
        "  number = random.randint(1, 100)\n",
        "  guesses_left = 10\n",
        "  print(\"Welcome to the number guessing game\")\n",
        "  print(\"I am thinking a number between 1 and 100\")\n",
        "\n",
        "  while guesses_left > 0:\n",
        "    print(f\"\\n You have {guesses_left} guesses left.\")\n",
        "    try:\n",
        "      guess = int(input(\"Take a guess of another number \"))\n",
        "    except ValueError:\n",
        "      print(\"Invalid input : please enter a number\")\n",
        "      continue\n",
        "\n",
        "    if guess < number:\n",
        "      print(\"Too low number. Tell another\")\n",
        "    elif guess > number:\n",
        "      print(\"Too high number. Tell another\")\n",
        "    else:\n",
        "      print(f\"Congratulation you got the correct number in {10 - guesses_left + 1 } tries.\")\n",
        "      return\n",
        "\n",
        "  guesses_left -= 1\n",
        "  print(f\"\\n You ran out of guess. The number was {number}.\")\n",
        "\n",
        "number_guessing()\n"
      ],
      "metadata": {
        "colab": {
          "base_uri": "https://localhost:8080/"
        },
        "id": "u9WqGu5cDkyD",
        "outputId": "03b691bc-7254-4c96-a201-cacd5a1f53c9"
      },
      "execution_count": 39,
      "outputs": [
        {
          "output_type": "stream",
          "name": "stdout",
          "text": [
            "Welcome to the number guessing game\n",
            "I am thinking a number between 1 and 100\n",
            "\n",
            " You have 10 guesses left.\n",
            "Take a guess of another number56\n",
            "Too high number. Tell another\n",
            "\n",
            " You have 10 guesses left.\n",
            "Take a guess of another number40\n",
            "Too low number. Tell another\n",
            "\n",
            " You have 10 guesses left.\n",
            "Take a guess of another number50\n",
            "Too low number. Tell another\n",
            "\n",
            " You have 10 guesses left.\n",
            "Take a guess of another number53\n",
            "Too high number. Tell another\n",
            "\n",
            " You have 10 guesses left.\n",
            "Take a guess of another number52\n",
            "Too high number. Tell another\n",
            "\n",
            " You have 10 guesses left.\n",
            "Take a guess of another number51\n",
            "Congratulation you got the correct number in 1 tries\n"
          ]
        }
      ]
    },
    {
      "cell_type": "code",
      "source": [],
      "metadata": {
        "id": "WWVBehfwE4Of"
      },
      "execution_count": null,
      "outputs": []
    }
  ]
}
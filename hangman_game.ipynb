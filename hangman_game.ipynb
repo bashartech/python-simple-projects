{
  "nbformat": 4,
  "nbformat_minor": 0,
  "metadata": {
    "colab": {
      "provenance": [],
      "authorship_tag": "ABX9TyORe/0uOqwMNNukwQgx9zra",
      "include_colab_link": true
    },
    "kernelspec": {
      "name": "python3",
      "display_name": "Python 3"
    },
    "language_info": {
      "name": "python"
    }
  },
  "cells": [
    {
      "cell_type": "markdown",
      "metadata": {
        "id": "view-in-github",
        "colab_type": "text"
      },
      "source": [
        "<a href=\"https://colab.research.google.com/github/bashartech/python-simple-projects/blob/main/hangman_game.ipynb\" target=\"_parent\"><img src=\"https://colab.research.google.com/assets/colab-badge.svg\" alt=\"Open In Colab\"/></a>"
      ]
    },
    {
      "cell_type": "code",
      "execution_count": 1,
      "metadata": {
        "colab": {
          "base_uri": "https://localhost:8080/"
        },
        "id": "jZNtpN6ZP8uW",
        "outputId": "dc777a33-60f6-45a0-d479-c6e71fd904dc"
      },
      "outputs": [
        {
          "output_type": "stream",
          "name": "stdout",
          "text": [
            "Welcome to hangman game \n",
            "_ _ _ _ _ _ \n",
            "\n",
            " guess the letters: p\n",
            "Wrong 5 attempts\n",
            "_ _ _ _ _ _\n",
            "\n",
            " guess the letters: o\n",
            "Correct guess! \n",
            "_ _ _ o _ _\n",
            "\n",
            " guess the letters: v\n",
            "Correct guess! \n",
            "v _ _ o _ _\n",
            "\n",
            " guess the letters: s\n",
            "Correct guess! \n",
            "v s _ o _ _\n",
            "\n",
            " guess the letters: c\n",
            "Correct guess! \n",
            "v s c o _ _\n",
            "\n",
            " guess the letters: e#\n",
            "write one alphabet only!\n",
            "\n",
            " guess the letters: e\n",
            "Correct guess! \n",
            "v s c o _ e\n",
            "\n",
            " guess the letters: f\n",
            "Wrong 4 attempts\n",
            "v s c o _ e\n",
            "\n",
            " guess the letters: g\n",
            "Wrong 3 attempts\n",
            "v s c o _ e\n",
            "\n",
            " guess the letters: d\n",
            "Correct guess! \n",
            "v s c o d e\n",
            "Congratulations! the correct word is : vscode\n"
          ]
        }
      ],
      "source": [
        "import random\n",
        "words = [\"python\",\"enum\", \"vscode\", \"laptop\", \"mobile\"]\n",
        "\n",
        "word = random.choice(words)\n",
        "guessedLetters = []\n",
        "attempts = 6\n",
        "print(\"Welcome to hangman game \")\n",
        "print(\"_ \" * len(word))\n",
        "\n",
        "while attempts > 0:\n",
        "  guess = input(\"\\n guess the letters: \").lower()\n",
        "\n",
        "  if len(guess) != 1 or not guess.isalpha():\n",
        "    print(\"write one alphabet only!\")\n",
        "    continue\n",
        "  if guess in guessedLetters:\n",
        "    print(\" this letter is already guess chose another letter\")\n",
        "    continue\n",
        "  guessedLetters.append(guess)\n",
        "\n",
        "  if guess in word:\n",
        "    print(\"Correct guess! \")\n",
        "  else:\n",
        "    attempts -= 1\n",
        "    print(f\"Wrong {attempts} attempts\")\n",
        "\n",
        "  displayedWord = \" \".join([letter if letter in guessedLetters else \"_\" for letter in word])\n",
        "  print(displayedWord)\n",
        "\n",
        "  if \"_\" not in displayedWord:\n",
        "    print(f\"Congratulations! the correct word is : {word}\")\n",
        "    break\n",
        "\n",
        "else:\n",
        "  print(f\"Game over! the correct word is: {word}\")\n",
        "\n"
      ]
    }
  ]
}
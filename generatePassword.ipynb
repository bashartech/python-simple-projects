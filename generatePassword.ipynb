{
  "nbformat": 4,
  "nbformat_minor": 0,
  "metadata": {
    "colab": {
      "provenance": [],
      "authorship_tag": "ABX9TyO8pqGjOUdAEK/mUV/sN0WU",
      "include_colab_link": true
    },
    "kernelspec": {
      "name": "python3",
      "display_name": "Python 3"
    },
    "language_info": {
      "name": "python"
    }
  },
  "cells": [
    {
      "cell_type": "markdown",
      "metadata": {
        "id": "view-in-github",
        "colab_type": "text"
      },
      "source": [
        "<a href=\"https://colab.research.google.com/github/bashartech/python-simple-projects/blob/main/generatePassword.ipynb\" target=\"_parent\"><img src=\"https://colab.research.google.com/assets/colab-badge.svg\" alt=\"Open In Colab\"/></a>"
      ]
    },
    {
      "cell_type": "code",
      "execution_count": 4,
      "metadata": {
        "colab": {
          "base_uri": "https://localhost:8080/"
        },
        "id": "ZjcSPdDRMZhC",
        "outputId": "b69a95e6-bdb5-4e3a-a282-e95f8e7ae5aa"
      },
      "outputs": [
        {
          "output_type": "stream",
          "name": "stdout",
          "text": [
            "Enter the length of your password: 54\n",
            ",wl-n~\"gbhnq_ts?{;\"c%^s=rlkal$<x%~uxb:w'f<.q:w:>:^',&z\n"
          ]
        }
      ],
      "source": [
        "import random\n",
        "import string\n",
        "\n",
        "def generatePassword(length = 12):\n",
        "  characters = string.ascii_letters + string.digits + string.punctuation\n",
        "  password = \"\".join(random.choice(characters)for _ in range(length))\n",
        "  return password\n",
        "\n",
        "length = int(input(\"Enter the length of your password: \"))\n",
        "password = generatePassword(length)\n",
        "print(\"Your desired generated password: \", password)\n"
      ]
    }
  ]
}